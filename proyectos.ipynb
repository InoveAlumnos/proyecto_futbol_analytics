{
  "nbformat": 4,
  "nbformat_minor": 0,
  "metadata": {
    "colab": {
      "provenance": []
    },
    "kernelspec": {
      "name": "python3",
      "display_name": "Python 3"
    }
  },
  "cells": [
    {
      "cell_type": "markdown",
      "metadata": {
        "id": "FcBj8oqlBm1W"
      },
      "source": [
        "<a href=\"https://www.inove.com.ar\"><img src=\"https://raw.githubusercontent.com/InoveAlumnos/dataset_analytics_python/master/images/PA%20Banner.png\" width=\"1000\" align=\"center\"></a>\n",
        "\n",
        "\n",
        "# Proyectos\n",
        "\n",
        "Proyectos propuestos para Python Analytics<br>\n",
        "v1.5"
      ]
    },
    {
      "cell_type": "markdown",
      "metadata": {
        "id": "mfnI5-sJDqwl"
      },
      "source": [
        "### Formato de entrega\n",
        "Toda la etapa de entrenamiento del proyecto se debe realizar en un colab o nootebook que luego el alumno subierá a su repositorio de proyecto para que el profesor pueda evaluar los avances.<br>\n",
        "\n",
        "__APROBACIÓN:__ El proyecto será aprobado cuando el modelo entrenado alcance la exactitud/condición planteada en el proyecto.<br>"
      ]
    },
    {
      "cell_type": "markdown",
      "metadata": {
        "id": "Q5h38Md6Br2c"
      },
      "source": [
        "### Predicción sobre el dataset de partidos de futbol\n",
        "<img src=\"https://raw.githubusercontent.com/InoveAlumnos/proyecto_analytics_python/main/futbol.png\" width=\"400\" align=\"center\">\n",
        "\n"
      ]
    },
    {
      "cell_type": "markdown",
      "metadata": {
        "id": "6XJW_GFDBzVK"
      },
      "source": [
        "- El objetivo es armar un clasificador que pueda predecir quien ganaría un partido de futbol informando al modelo quien es el equipo de local y visitante\n",
        "- Deberá entrenar un modelo clasificador y varias versiones del mismo. Por ejemplo, en el caso de seleccionar un RandomForest debe entrenar con distinto número de estimadores (distantas cantidad de árboles). Deberá compararlos utilizando la métrica adecuada y elegir el mejor modelo.\n",
        "- El punto anterior lo deberá repetir para tres distintos preprocesamientos:\n",
        "    - Realizar LabelEncoding sobre las columnas local y vistintante.\n",
        "    - Realizar OneHotEncoding sobre las columnas local y vistintante.\n",
        "    - Realizar BinaryEncoding sobre las columnas local y vistintante.\n",
        "- Recomendamos mirar la clase de \"Ingenieria de Features\" en la cual se implementó el BinaryEncoding.\n",
        "- Ojo! se debe utilizar el mismo objeto encoding para local y vistante, por lo que debe por si las dudas armar un vector que tenga todos los paises sin repetir tanto de la columna local y visitante para entrenar (fit) su encoder, que luego aplicará (transform) a las dos columnas. Referencia:\n",
        "\n",
        "Ejemplo encoding: https://github.com/InoveAlumnos/proyecto_analytics_python/blob/main/encoding_futbol.ipynb"
      ]
    },
    {
      "cell_type": "markdown",
      "metadata": {
        "id": "6HDor1sbr8oQ"
      },
      "source": [
        "#### Objetivo"
      ]
    },
    {
      "cell_type": "markdown",
      "metadata": {
        "id": "00HbuLm9r_OL"
      },
      "source": [
        "El accuracy del modelo definitivo debe superar el 50% (0.5)"
      ]
    },
    {
      "cell_type": "markdown",
      "metadata": {
        "id": "4WPqs6i8Bw--"
      },
      "source": [
        "#### Como descargar el dataset"
      ]
    },
    {
      "cell_type": "code",
      "metadata": {
        "id": "M2g1zYl_Bhd9"
      },
      "source": [
        "# Ejecutar:\n",
        "if os.access('partidos.csv', os.F_OK) is False:\n",
        "    if platform.system() == 'Windows':\n",
        "        !curl https://raw.githubusercontent.com/InoveAlumnos/dataset_analytics_python/master/partidos.csv > partidos.csv\n",
        "    else:\n",
        "        !wget partidos.csv https://raw.githubusercontent.com/InoveAlumnos/dataset_analytics_python/master/partidos.csv"
      ],
      "execution_count": null,
      "outputs": []
    }
  ]
}